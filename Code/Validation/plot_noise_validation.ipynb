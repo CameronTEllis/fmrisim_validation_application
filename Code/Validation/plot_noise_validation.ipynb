{
 "cells": [
  {
   "cell_type": "markdown",
   "metadata": {},
   "source": [
    "# Produce plots for noise validation"
   ]
  },
  {
   "cell_type": "code",
   "execution_count": null,
   "metadata": {
    "collapsed": false
   },
   "outputs": [],
   "source": [
    "import os\n",
    "import sys\n",
    "import numpy as np\n",
    "import matplotlib.pyplot as plt\n",
    "from mpl_toolkits.mplot3d import Axes3D\n",
    "from scipy.optimize import curve_fit\n",
    "import nibabel\n",
    "from scipy import stats\n",
    "from scipy import signal\n",
    "\n",
    "%matplotlib notebook"
   ]
  },
  {
   "cell_type": "markdown",
   "metadata": {},
   "source": [
    "## Show examples of the simulated data"
   ]
  },
  {
   "cell_type": "code",
   "execution_count": null,
   "metadata": {
    "collapsed": false
   },
   "outputs": [],
   "source": [
    "subj = 'Participant_01_rest_run01'\n",
    "real_path = '../../Validation/real_data/%s.nii' % subj\n",
    "sim_path = '../../Validation/simulated_data/%s.nii.gz' % subj\n",
    "mask_path = '../../Validation/masks/%s.nii.gz' % subj\n",
    "\n",
    "print('May take a minute or two to load data...')\n",
    "nii = nibabel.load(real_path)\n",
    "real_data = nii.get_data()\n",
    "nii = nibabel.load(sim_path)\n",
    "sim_data = nii.get_data()\n",
    "nii = nibabel.load(mask_path)\n",
    "mask_data = nii.get_data()\n",
    "print('Data has been loaded')"
   ]
  },
  {
   "cell_type": "code",
   "execution_count": null,
   "metadata": {
    "collapsed": false
   },
   "outputs": [],
   "source": [
    "def slice_data(data, ylabel):\n",
    "    plt.subplot(1, 3, 1)\n",
    "    plt.imshow(data[:, :, 14, 0].reshape(64, 64), cmap=plt.cm.gray)\n",
    "    plt.tick_params(axis='both', which='both', left='off', right='off', bottom='off', top='off', labelleft='off', labelbottom='off')\n",
    "    plt.ylabel(ylabel)\n",
    "    plt.title('Axial')\n",
    "\n",
    "    plt.subplot(1, 3, 2)\n",
    "    plt.imshow(np.rot90(data[32, :, :, 0].reshape(64, 27)), cmap=plt.cm.gray)\n",
    "    plt.axis('off')\n",
    "    plt.title('Sagital')\n",
    "\n",
    "    plt.subplot(1, 3, 3)\n",
    "    plt.imshow(np.rot90(data[:, 32, :, 0].reshape(64, 27)), cmap=plt.cm.gray)\n",
    "    plt.axis('off')\n",
    "    plt.title('Coronal')\n",
    "\n",
    "plt.figure()\n",
    "slice_data(real_data, 'real')\n",
    "plt.savefig('../../Validation/plots/simulated_spatial_real.eps', format='eps', dpi=100)\n",
    "\n",
    "plt.figure()\n",
    "slice_data(sim_data, 'simulated')\n",
    "plt.savefig('../../Validation/plots/simulated_spatial_simulated.eps', format='eps', dpi=100)"
   ]
  },
  {
   "cell_type": "code",
   "execution_count": null,
   "metadata": {
    "collapsed": false
   },
   "outputs": [],
   "source": [
    "# Plot the time course of a voxel\n",
    "\n",
    "plt.figure()\n",
    "y_range = [675, 775]\n",
    "\n",
    "plt.subplot(2, 2, 1)\n",
    "plt.plot(real_data[32, 32, 14, :])\n",
    "plt.ylim(y_range)\n",
    "plt.title('Voxel 1')\n",
    "plt.ylabel('Real\\nActivity')\n",
    "plt.xticks([])\n",
    "\n",
    "plt.subplot(2, 2, 2)\n",
    "plt.plot(real_data[24, 32, 14, :])\n",
    "plt.ylim(y_range)\n",
    "plt.title('Voxel 2')\n",
    "plt.yticks([])\n",
    "plt.xticks([])\n",
    "\n",
    "plt.subplot(2, 2, 3)\n",
    "plt.ylabel('Simulated\\nActivity')\n",
    "plt.plot(sim_data[32, 32, 14, :])\n",
    "plt.ylim(y_range)\n",
    "plt.xticks([])\n",
    "\n",
    "plt.subplot(2, 2, 4)\n",
    "plt.plot(sim_data[24, 32, 14, :])\n",
    "plt.ylim(y_range)\n",
    "plt.yticks([])\n",
    "plt.xticks([])\n",
    "plt.xlabel('Time point')\n",
    "\n",
    "plt.savefig('../../Validation/plots/simulated_temporal_voxel.eps', format='eps', dpi=100)"
   ]
  },
  {
   "cell_type": "code",
   "execution_count": null,
   "metadata": {
    "collapsed": false
   },
   "outputs": [],
   "source": [
    "# Plot the power spectrum of a voxel\n",
    "def voxel_fft(voxel, TR=2):\n",
    "    \n",
    "    # What is the cut off\n",
    "    cutoff = 1/100\n",
    "    \n",
    "    # Perform high pass filtering\n",
    "    voxel = highpass_filter(voxel, cutoff, 1 / TR)\n",
    "    \n",
    "    # Number of samplepoints\n",
    "    N = len(voxel)\n",
    "\n",
    "    # Get the steps in hertz\n",
    "    steps = np.linspace(0.0, 1.0/(2.0 * TR), N/2)\n",
    "    \n",
    "    # Calculate the spectral power\n",
    "    power = 2.0 / N * abs(np.fft.fft(voxel)[:len(voxel) // 2])\n",
    "    \n",
    "    # Return the results\n",
    "    return steps, power\n",
    "\n",
    "# Create the temporal filter\n",
    "def highpass_filter(data, cutoff, fs, order=5):\n",
    "    \n",
    "    # Take into account the nyquist theorem\n",
    "    cutoff = cutoff / (fs / 2)\n",
    "    \n",
    "    # Create the filter\n",
    "    b, a = signal.butter(order, cutoff, btype='high', analog=False)\n",
    "    \n",
    "    # Apply the filter\n",
    "    filtered_data = signal.filtfilt(b, a, data)\n",
    "    \n",
    "    # Return the output\n",
    "    return filtered_data\n",
    "\n",
    "# Get an example fft\n",
    "example_fft = voxel_fft(real_data[32, 32, 14, :])\n",
    "\n",
    "# Create the template for the fft\n",
    "fft_real = np.zeros((len(example_fft[1]),))\n",
    "fft_sim = np.zeros((len(example_fft[1]),))\n",
    "\n",
    "# Where are there voxels in the brain\n",
    "brain_coords = np.where(mask_data == 1)\n",
    "\n",
    "# Take a random sample of brain voxels\n",
    "num_voxels = 1000\n",
    "voxel_idxs = np.random.randint(low=0, high=len(brain_coords[0]), size=(num_voxels,))\n",
    "\n",
    "for voxel_counter in voxel_idxs:\n",
    "    \n",
    "    # Pull out the sum\n",
    "    x = brain_coords[0][voxel_counter]\n",
    "    y = brain_coords[1][voxel_counter]\n",
    "    z = brain_coords[2][voxel_counter]\n",
    "    \n",
    "    fft_real += voxel_fft(real_data[x, y, z, :])[1]\n",
    "    fft_sim += voxel_fft(sim_data[x, y, z, :])[1]\n",
    "\n",
    "# Get the average\n",
    "fft_real /= len(voxel_idxs) \n",
    "fft_sim /= len(voxel_idxs) \n",
    "\n",
    "plt.figure(figsize=(2,4))\n",
    "y_range = [0, 2.5]\n",
    "x_ticks = [0.0, 0.25]\n",
    "\n",
    "plt.subplot(2, 1, 1)\n",
    "plt.plot(example_fft[0], fft_real)\n",
    "plt.ylim(y_range)\n",
    "plt.xticks(x_ticks, x_ticks)\n",
    "plt.ylabel('Real\\nFrequency')\n",
    "\n",
    "plt.subplot(2, 1, 2)\n",
    "plt.plot(example_fft[0], fft_sim)\n",
    "plt.ylim(y_range)\n",
    "plt.xticks(x_ticks, x_ticks)\n",
    "plt.ylabel('Simulated\\nFrequency')\n",
    "plt.xlabel('Frequency (Hz)')\n",
    "\n",
    "plt.savefig('../../Validation/plots/simulated_spectral_voxel.eps', format='eps', dpi=100)\n"
   ]
  },
  {
   "cell_type": "markdown",
   "metadata": {},
   "source": [
    "## Compute the run time of validation analyses"
   ]
  },
  {
   "cell_type": "code",
   "execution_count": null,
   "metadata": {
    "collapsed": false
   },
   "outputs": [],
   "source": [
    "timing_file = '../../Validation/simulation_timing.txt'\n",
    "fid = open(timing_file)\n",
    "text = fid.readlines()\n",
    "fid.close()\n",
    "\n",
    "# Pull out the timing info\n",
    "duration_all = []\n",
    "\n",
    "# Iterate through the text\n",
    "for line in text:\n",
    "    \n",
    "    # What is the timing duration\n",
    "    duration = float(line[line.find(': ') + 1:line.find('\\n')])\n",
    "    \n",
    "    if line[line.find('matching_') + 9] == '1':\n",
    "        duration_all += [duration]\n",
    "        \n",
    "# Identify the average and SD of the different analyses\n",
    "\n",
    "print('Duration: %0.3f (SD=%0.3f, max=%0.3f)' % (np.mean(duration_all), np.std(duration_all), np.max(duration_all)))\n",
    "       "
   ]
  },
  {
   "cell_type": "markdown",
   "metadata": {},
   "source": [
    "## Perform the validation analyses for fmrisim"
   ]
  },
  {
   "cell_type": "code",
   "execution_count": null,
   "metadata": {
    "collapsed": false
   },
   "outputs": [],
   "source": [
    "# Take the output of the signal_fit function and plot the heatmap of results\n",
    "\n",
    "# Identify file. paths\n",
    "testing_noise_calc_path = '../../Validation/testing_noise_calc/'\n",
    "\n",
    "# What is the file name\n",
    "real_noise_dicts = np.load(testing_noise_calc_path + 'real_noise_dicts.npy')\n",
    "simulated_noise_dicts = np.load(testing_noise_calc_path + 'simulated_noise_dicts.npy')\n",
    "simulated_noise_dicts_means = np.load(testing_noise_calc_path + 'simulated_noise_dicts_means.npy')\n",
    "simulated_noise_dicts_std = np.load(testing_noise_calc_path + 'simulated_noise_dicts_stds.npy')"
   ]
  },
  {
   "cell_type": "code",
   "execution_count": null,
   "metadata": {
    "collapsed": true
   },
   "outputs": [],
   "source": [
    "# Create a function to compare the different inputs\n",
    "def plot_boxplot(*arg,\n",
    "                 ):\n",
    "    plt.figure(figsize=(4, len(arg) * 3))\n",
    "    \n",
    "    # Reshape and store the data\n",
    "\n",
    "    for arg_number in list(range(0, len(arg))):\n",
    "        var = arg[arg_number]\n",
    "        var = var.reshape(np.prod(var.shape))\n",
    "\n",
    "        # Add the data to the matrix\n",
    "        if arg_number == 0:\n",
    "            data = np.asarray([var])\n",
    "        else:\n",
    "            data = np.vstack([data, var])\n",
    "\n",
    "    # What is the x value\n",
    "    x_idxs = list(range(1, data.shape[0] + 1))\n",
    "    \n",
    "    plt.plot(x_idxs, data, c=(0.9,0.9,0.9))\n",
    "    \n",
    "    # What indexes are usable from the data\n",
    "    useable_idxs = np.where(np.prod(~np.isnan(data), axis=0)==1)[0]\n",
    "    \n",
    "    # Plot the box plots\n",
    "    plt.boxplot(np.transpose(data[:, useable_idxs]))\n",
    "    \n",
    "    # If there are two inputs, do a t test\n",
    "    if len(arg) == 2:\n",
    "        t, p = stats.ttest_rel(data[1, useable_idxs], data[0, useable_idxs])\n",
    "        delta_mean = np.nanmean(np.subtract(data[1, useable_idxs], data[0, useable_idxs]))\n",
    "        df = data.shape[1] - 1\n",
    "        print('Test statistics:')\n",
    "        print(\"M=%0.2f, t(%d)=%0.2f, p=%0.3f\" % (delta_mean,df,t,p))\n",
    "        "
   ]
  },
  {
   "cell_type": "code",
   "execution_count": null,
   "metadata": {
    "collapsed": true
   },
   "outputs": [],
   "source": [
    "# How many of the simulated values are in range?\n",
    "def plot_title_fit(title_prefix, real_noise, simulated_noise, threshold=0.05):\n",
    "\n",
    "    # Pool all of the proportional differences in simulated noise \n",
    "    values = []\n",
    "    for resample in range(simulated_noise.shape[2]):\n",
    "        values = np.append(values, (abs(simulated_noise[:, :, resample] - real_noise[:, :]) / (real_noise[:, :])).flatten())\n",
    "\n",
    "    # What proportion of items are above the fit threshold\n",
    "    prop = 1 - (np.sum(np.asarray(values) > threshold) / len(values))\n",
    "\n",
    "    plt.title('%s: prop within threshold = %0.3f' % (title_prefix, prop))\n"
   ]
  },
  {
   "cell_type": "code",
   "execution_count": null,
   "metadata": {
    "collapsed": true
   },
   "outputs": [],
   "source": [
    "# Create all of the plots\n",
    "def plot_parameter(parameter_type):\n",
    "\n",
    "    if parameter_type == 'SNR':\n",
    "        parameter_idx = 0\n",
    "    elif parameter_type == 'SFNR':\n",
    "        parameter_idx = 1        \n",
    "    elif parameter_type == 'FWHM':\n",
    "        parameter_idx = 2        \n",
    "    elif parameter_type == 'AR':\n",
    "        parameter_idx = 3         \n",
    "    elif parameter_type == 'MA':\n",
    "        parameter_idx = 4         \n",
    "            \n",
    "    # Make the box plot\n",
    "    plot_boxplot(real_noise_dicts[:, :, parameter_idx], simulated_noise_dicts_means[:, :, parameter_idx])\n",
    "    plot_title_fit(parameter_type, real_noise_dicts[:, :, parameter_idx], simulated_noise_dicts[:, :, parameter_idx, :])\n",
    "    plt.xticks(np.asarray([1,2]), ['Real', 'Simulated'])\n",
    "    plt.savefig('../../Validation/plots/%s_comparison.eps' % parameter_type, format='eps', dpi=100)\n",
    "    ylims = plt.ylim()\n",
    "\n",
    "    # Plot the difference from the real value as a proportion of the value of real. This should be below the fit threshold that was used (default is 10) \n",
    "    plt.figure()\n",
    "    diff = real_noise_dicts[:, :, parameter_idx] - simulated_noise_dicts_means[:, :, parameter_idx]\n",
    "    plt.hist(abs(diff).flatten() / abs(real_noise_dicts[:, :, parameter_idx]).flatten())\n",
    "    plt.xlabel('Difference from real, proportion of real')\n",
    "\n",
    "    # Plot the distribution of noise metrics\n",
    "    stds = simulated_noise_dicts_std[:, :, parameter_idx]\n",
    "    stds = stds.reshape(np.prod(stds.shape))\n",
    "    plt.figure()\n",
    "    bins = np.linspace(0, ylims[1], 100)\n",
    "    useable_idxs = np.where(~np.isnan(stds))[0]\n",
    "    plt.hist(stds[useable_idxs], bins);\n",
    "    plt.xlabel(parameter_type)\n",
    "    print('Mean variance')\n",
    "    print(np.nanmean(stds ** 2))"
   ]
  },
  {
   "cell_type": "code",
   "execution_count": null,
   "metadata": {
    "collapsed": false
   },
   "outputs": [],
   "source": [
    "plot_parameter('SNR')"
   ]
  },
  {
   "cell_type": "code",
   "execution_count": null,
   "metadata": {
    "collapsed": false
   },
   "outputs": [],
   "source": [
    "plot_parameter('SFNR')"
   ]
  },
  {
   "cell_type": "code",
   "execution_count": null,
   "metadata": {
    "collapsed": false
   },
   "outputs": [],
   "source": [
    "plot_parameter('FWHM')"
   ]
  },
  {
   "cell_type": "code",
   "execution_count": null,
   "metadata": {
    "collapsed": false
   },
   "outputs": [],
   "source": [
    "plot_parameter('AR')"
   ]
  }
 ],
 "metadata": {
  "kernelspec": {
   "display_name": "Python 3",
   "language": "python",
   "name": "python3"
  },
  "language_info": {
   "codemirror_mode": {
    "name": "ipython",
    "version": 3
   },
   "file_extension": ".py",
   "mimetype": "text/x-python",
   "name": "python",
   "nbconvert_exporter": "python",
   "pygments_lexer": "ipython3",
   "version": "3.6.0"
  }
 },
 "nbformat": 4,
 "nbformat_minor": 2
}
